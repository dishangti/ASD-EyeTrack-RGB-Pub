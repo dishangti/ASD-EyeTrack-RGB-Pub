{
 "cells": [
  {
   "cell_type": "code",
   "execution_count": 3,
   "metadata": {},
   "outputs": [],
   "source": [
    "import sys\n",
    "sys.path.append('..')\n",
    "from eyelib import dataload\n",
    "import importlib\n",
    "import numpy as np\n",
    "import pandas as pd\n",
    "import os"
   ]
  },
  {
   "cell_type": "markdown",
   "metadata": {},
   "source": [
    "## ASD"
   ]
  },
  {
   "cell_type": "code",
   "execution_count": 1,
   "metadata": {},
   "outputs": [],
   "source": [
    "ASD_path = '../data/ASD/'"
   ]
  },
  {
   "cell_type": "code",
   "execution_count": 4,
   "metadata": {},
   "outputs": [
    {
     "name": "stdout",
     "output_type": "stream",
     "text": [
      "Video Mode:\n",
      "Total number 97\n",
      "Old device number 24, portion 24.74\n",
      "New device number 73, portion 75.26\n"
     ]
    }
   ],
   "source": [
    "newdev_name = 'gts4lvwifichn'\n",
    "olddev_name = 'HWBAH4'\n",
    "\n",
    "old_dev_num = 0\n",
    "new_dev_num = 0\n",
    "for record_file in os.listdir(ASD_path):\n",
    "    eye_coor, sti_type, exp_info, usr_info = dataload.read_record(ASD_path+record_file)\n",
    "    if exp_info['testMode'] == 'video' and len(eye_coor) == 8:\n",
    "        if exp_info['deviceName'] == olddev_name:\n",
    "            old_dev_num += 1\n",
    "        else:\n",
    "            new_dev_num += 1\n",
    "print('Video Mode:')\n",
    "print(f'Total number {new_dev_num+old_dev_num}')\n",
    "print(f'Old device number {old_dev_num}, portion {np.round(old_dev_num / (old_dev_num+new_dev_num) * 100,2)}')\n",
    "print(f'New device number {new_dev_num}, portion {np.round(new_dev_num / (old_dev_num+new_dev_num) * 100,2)}')"
   ]
  },
  {
   "cell_type": "code",
   "execution_count": 25,
   "metadata": {},
   "outputs": [
    {
     "name": "stdout",
     "output_type": "stream",
     "text": [
      "Double Mode:\n",
      "Total number 86\n"
     ]
    }
   ],
   "source": [
    "newdev_name = 'gts4lvwifichn'\n",
    "olddev_name = 'HWBAH4'\n",
    "\n",
    "old_dev_num = 0\n",
    "new_dev_num = 0\n",
    "name_list = set()\n",
    "video_cnt = {}\n",
    "normal_cnt = {}\n",
    "for record_file in os.listdir(ASD_path):\n",
    "    eye_coor, sti_type, exp_info, usr_info = dataload.read_record(ASD_path+record_file)\n",
    "    if len(eye_coor) == 8:\n",
    "        user_name = exp_info['userName']\n",
    "        name_list.add(user_name)\n",
    "        if not (user_name in video_cnt):\n",
    "            video_cnt[user_name] = 0\n",
    "            normal_cnt[user_name] = 0\n",
    "        if exp_info['testMode'] == 'video':\n",
    "            video_cnt[user_name] += 1\n",
    "        else:\n",
    "            normal_cnt[user_name] += 1\n",
    "\n",
    "cnt = 0\n",
    "for user_name in name_list:\n",
    "    if video_cnt[user_name] >= 1 and normal_cnt[user_name] >= 1:\n",
    "       cnt += 1 \n",
    "            \n",
    "print('Double Mode:')\n",
    "print(f'Total number {cnt}')"
   ]
  },
  {
   "cell_type": "markdown",
   "metadata": {},
   "source": [
    "## TD"
   ]
  },
  {
   "cell_type": "code",
   "execution_count": 26,
   "metadata": {},
   "outputs": [],
   "source": [
    "TD_path = '../data/TD/'"
   ]
  },
  {
   "cell_type": "code",
   "execution_count": 27,
   "metadata": {},
   "outputs": [
    {
     "name": "stdout",
     "output_type": "stream",
     "text": [
      "Video Mode:\n",
      "Total number 103\n",
      "Old device number 103, portion 100.0\n",
      "New device number 0, portion 0.0\n"
     ]
    }
   ],
   "source": [
    "newdev_name = 'gts4lvwifichn'\n",
    "olddev_name = 'HWBAH4'\n",
    "\n",
    "old_dev_num = 0\n",
    "new_dev_num = 0\n",
    "for record_file in os.listdir(TD_path):\n",
    "    eye_coor, sti_type, exp_info, usr_info = dataload.read_record(TD_path+record_file)\n",
    "    if exp_info['testMode'] == 'video' and len(eye_coor) == 8:\n",
    "        if exp_info['deviceName'] == olddev_name:\n",
    "            old_dev_num += 1\n",
    "        else:\n",
    "            new_dev_num += 1\n",
    "print('Video Mode:')\n",
    "print(f'Total number {new_dev_num+old_dev_num}')\n",
    "print(f'Old device number {old_dev_num}, portion {np.round(old_dev_num / (old_dev_num+new_dev_num) * 100,2)}')\n",
    "print(f'New device number {new_dev_num}, portion {np.round(new_dev_num / (old_dev_num+new_dev_num) * 100,2)}')"
   ]
  },
  {
   "cell_type": "code",
   "execution_count": 28,
   "metadata": {},
   "outputs": [
    {
     "name": "stdout",
     "output_type": "stream",
     "text": [
      "Double Mode:\n",
      "Total number 103\n"
     ]
    }
   ],
   "source": [
    "newdev_name = 'gts4lvwifichn'\n",
    "olddev_name = 'HWBAH4'\n",
    "\n",
    "old_dev_num = 0\n",
    "new_dev_num = 1\n",
    "name_list = set()\n",
    "video_cnt = {}\n",
    "normal_cnt = {}\n",
    "for record_file in os.listdir(TD_path):\n",
    "    eye_coor, sti_type, exp_info, usr_info = dataload.read_record(TD_path+record_file)\n",
    "    if len(eye_coor) == 8:\n",
    "        user_name = exp_info['userName']\n",
    "        name_list.add(user_name)\n",
    "        if not (user_name in video_cnt):\n",
    "            video_cnt[user_name] = 0\n",
    "            normal_cnt[user_name] = 0\n",
    "        if exp_info['testMode'] == 'video':\n",
    "            video_cnt[user_name] += 1\n",
    "        else:\n",
    "            normal_cnt[user_name] += 1\n",
    "\n",
    "cnt = 0\n",
    "for user_name in name_list:\n",
    "    if video_cnt[user_name] >= 1 and normal_cnt[user_name] >= 1:\n",
    "       cnt += 1 \n",
    "            \n",
    "print('Double Mode:')\n",
    "print(f'Total number {cnt}')"
   ]
  }
 ],
 "metadata": {
  "kernelspec": {
   "display_name": "torch",
   "language": "python",
   "name": "python3"
  },
  "language_info": {
   "codemirror_mode": {
    "name": "ipython",
    "version": 3
   },
   "file_extension": ".py",
   "mimetype": "text/x-python",
   "name": "python",
   "nbconvert_exporter": "python",
   "pygments_lexer": "ipython3",
   "version": "3.8.16"
  },
  "orig_nbformat": 4
 },
 "nbformat": 4,
 "nbformat_minor": 2
}
